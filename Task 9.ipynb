{
 "cells": [
  {
   "cell_type": "code",
   "execution_count": 3,
   "metadata": {},
   "outputs": [
    {
     "name": "stdout",
     "output_type": "stream",
     "text": [
      "[10, 501, 22, 37, 100, 999, 87, 351]\n"
     ]
    }
   ],
   "source": [
    "#1 What is the expected output of the following python code given below:\n",
    "data = [10,501,22,37,100,999,87,351]\n",
    "result = filter (lambda x: x>4,data)\n",
    "print(list(result))"
   ]
  },
  {
   "cell_type": "code",
   "execution_count": 8,
   "metadata": {},
   "outputs": [
    {
     "name": "stdout",
     "output_type": "stream",
     "text": [
      "[0, 1, 1, 2, 3, 5, 8, 13, 21, 34, 55, 89, 144, 233, 377, 610, 987, 1597, 2584, 4181, 6765, 10946, 17711, 28657, 46368, 75025, 121393, 196418, 317811, 514229, 832040, 1346269, 2178309, 3524578, 5702887, 9227465, 14930352, 24157817, 39088169, 63245986, 102334155, 165580141, 267914296, 433494437, 701408733, 1134903170, 1836311903, 2971215073, 4807526976, 7778742049]\n"
     ]
    }
   ],
   "source": [
    "#3) Using a python Lambda function create a fibonacci series from 1 to 50 elements?\n",
    "def fibonacci(count):\n",
    "    fib_list=[0,1]\n",
    "    any(map(lambda _: fib_list.append(sum(fib_list[-2:])),\n",
    "            range(2, count)))\n",
    "    return fib_list[:count]\n",
    "print(fibonacci(50))\n",
    "            "
   ]
  },
  {
   "cell_type": "code",
   "execution_count": null,
   "metadata": {},
   "outputs": [],
   "source": [
    "# Email\n",
    "import re\n",
    "a = open(\"a.txt\", \"r\")\n",
    "# c=a.readlines()\n",
    "b = a.read()\n",
    "c = b.split(\"\\n\")\n",
    "for d in c:\n",
    "    obj = re.search(r'[\\w.]+\\@[\\w.]+', d)\n",
    "    if obj:\n",
    "        print(\"Valid Email\")\n",
    "    else:\n",
    "        print(\"Invalid Email\")"
   ]
  }
 ],
 "metadata": {
  "kernelspec": {
   "display_name": "Python 3",
   "language": "python",
   "name": "python3"
  },
  "language_info": {
   "codemirror_mode": {
    "name": "ipython",
    "version": 3
   },
   "file_extension": ".py",
   "mimetype": "text/x-python",
   "name": "python",
   "nbconvert_exporter": "python",
   "pygments_lexer": "ipython3",
   "version": "3.12.2"
  }
 },
 "nbformat": 4,
 "nbformat_minor": 2
}
